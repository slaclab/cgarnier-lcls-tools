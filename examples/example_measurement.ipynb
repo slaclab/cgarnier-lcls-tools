{
 "cells": [
  {
   "cell_type": "markdown",
   "id": "0a432940",
   "metadata": {},
   "source": [
    "-This notebook is an example of how to properly set up the ScreenBeamProfileMeasurement Class:\n",
    "    -Since ScreenBeamProfileMeasurement takes a screen object as a pydantic field to use for live images and this example is mean't to be \n",
    "done offline we subclass Screen and overwrite the the image property to a static 2d array. \n",
    "        -The array passed in this example is automatically"
   ]
  },
  {
   "cell_type": "code",
   "execution_count": 1,
   "id": "80146949",
   "metadata": {},
   "outputs": [],
   "source": [
    "from lcls_tools.common.measurements.screen_beam_profile_measurement import ScreenBeamProfileMeasurement\n",
    "from lcls_tools.common.data_analysis.projection_fit.projection_fit import ProjectionFit\n",
    "from lcls_tools.common.data_analysis.projection_fit.gaussian_model import GaussianModel\n",
    "from lcls_tools.common.image_processing.image_processing import ImageProcessor\n",
    "from lcls_tools.common.image_processing.roi import ROI, RectangularROI, CircularROI\n",
    "from lcls_tools.common.devices.device import Device, PVSet, ControlInformation, Metadata\n",
    "from lcls_tools.common.devices.screen import ScreenControlInformation, ScreenPVSet, Screen\n",
    "from matplotlib import pyplot as plt\n",
    "from epics import PV, caget\n",
    "import numpy as np\n",
    "import h5py\n",
    "import random"
   ]
  },
  {
   "cell_type": "code",
   "execution_count": 2,
   "id": "7051ec06-01f3-4dc3-b86a-c732fd1c3df5",
   "metadata": {},
   "outputs": [],
   "source": [
    "class ScreenTest(Screen):\n",
    "    @property\n",
    "    def image(self) -> np.ndarray:\n",
    "        return self._image\n",
    "    \n",
    "    @image.setter\n",
    "    def image(self,image):\n",
    "        self._image = image"
   ]
  },
  {
   "cell_type": "code",
   "execution_count": 3,
   "id": "f736c366-6c88-4187-b9a4-a4dcab9c7730",
   "metadata": {},
   "outputs": [],
   "source": [
    "def create_test_image(size:tuple,center:list,radius:int):\n",
    "    # make img that is a circle in the center of the image with known standard dev and mean. no imports, no calls to external or\n",
    "    # internal files. \n",
    "    image = np.zeros(size)\n",
    "    for y in range(image.shape[0]):\n",
    "        for x in range(image.shape[1]):\n",
    "            distance =  np.sqrt((x - center[0])**2 + (y - center[1])**2)\n",
    "            if distance < radius:\n",
    "                image[y,x]= 1\n",
    "    return image"
   ]
  },
  {
   "cell_type": "code",
   "execution_count": 4,
   "id": "9fa172e9",
   "metadata": {},
   "outputs": [],
   "source": [
    "# creating projection fit class\n",
    "gauss_model = GaussianModel()\n",
    "projection_fit = ProjectionFit(model = gauss_model,use_priors =True)"
   ]
  },
  {
   "cell_type": "code",
   "execution_count": 5,
   "id": "4289cca5",
   "metadata": {},
   "outputs": [],
   "source": [
    "# creating image processing class\n",
    "# would be nice to have default way of finding the center of image\n",
    "# also maybe have rectangularROI have default roi_type 'Rectangular', and change roi_type to roi\n",
    "roi = RectangularROI(center =[400,400],xwidth=300,ywidth=300)\n",
    "image_processor = ImageProcessor(roi = roi)"
   ]
  },
  {
   "cell_type": "code",
   "execution_count": 6,
   "id": "8260d6b6",
   "metadata": {},
   "outputs": [],
   "source": [
    "PV_strings = {\n",
    "    'image': 'ArrayData',\n",
    "    'n_bits': 'N_OF_BITS',\n",
    "    'n_col': 'ArraySize1_RBV',\n",
    "    'n_row': 'ArraySize0_RBV',\n",
    "    'resolution': 'RESOLUTION'\n",
    "}\n",
    "metadata = {\n",
    "        'area': 'TEST',\n",
    "        'beam_path': ['SC_TEST'],\n",
    "        'sum_l_meters': 99.99\n",
    "        }\n",
    "control_name =  \"OTRS:TEST:650:\""
   ]
  },
  {
   "cell_type": "code",
   "execution_count": 7,
   "id": "eb543534",
   "metadata": {},
   "outputs": [],
   "source": [
    "# creating Screen Device\n",
    "# inconsistent use of Controls_information and control_information between classes recommend change.\n",
    "screen_pvs = ScreenPVSet(**PV_strings)\n",
    "meta_data = Metadata(**metadata)\n",
    "controls_information = ScreenControlInformation(control_name = control_name, PVs = screen_pvs )\n",
    "screen_test = ScreenTest(controls_information = controls_information, metadata = meta_data)"
   ]
  },
  {
   "cell_type": "code",
   "execution_count": 8,
   "id": "d5d1add9",
   "metadata": {},
   "outputs": [],
   "source": [
    "test = ScreenBeamProfileMeasurement(name = control_name,device = screen_test, image_processor = image_processor, fitting_tool = projection_fit)"
   ]
  },
  {
   "cell_type": "code",
   "execution_count": 9,
   "id": "71c61cf3-bf4a-4d56-beb7-07e55b61cce0",
   "metadata": {},
   "outputs": [],
   "source": [
    "test.device.image = create_test_image((800,800),[400,400],50)"
   ]
  },
  {
   "cell_type": "code",
   "execution_count": 10,
   "id": "725f6fb5",
   "metadata": {},
   "outputs": [
    {
     "data": {
      "text/plain": [
       "[{'raw_image': array([[0., 0., 0., ..., 0., 0., 0.],\n",
       "         [0., 0., 0., ..., 0., 0., 0.],\n",
       "         [0., 0., 0., ..., 0., 0., 0.],\n",
       "         ...,\n",
       "         [0., 0., 0., ..., 0., 0., 0.],\n",
       "         [0., 0., 0., ..., 0., 0., 0.],\n",
       "         [0., 0., 0., ..., 0., 0., 0.]]),\n",
       "  'processed_image': array([[0., 0., 0., ..., 0., 0., 0.],\n",
       "         [0., 0., 0., ..., 0., 0., 0.],\n",
       "         [0., 0., 0., ..., 0., 0., 0.],\n",
       "         ...,\n",
       "         [0., 0., 0., ..., 0., 0., 0.],\n",
       "         [0., 0., 0., ..., 0., 0., 0.],\n",
       "         [0., 0., 0., ..., 0., 0., 0.]]),\n",
       "  'amplitude_x': 99.0,\n",
       "  'mean_x': 150.4536491668928,\n",
       "  'sigma_x': 71.29510708289436,\n",
       "  'offset_x': 12.517092936302678,\n",
       "  'amplitude_y': 99.0,\n",
       "  'mean_y': 150.4536491668928,\n",
       "  'sigma_y': 71.29510708289436,\n",
       "  'offset_y': 12.517092936302678}]"
      ]
     },
     "execution_count": 10,
     "metadata": {},
     "output_type": "execute_result"
    }
   ],
   "source": [
    "\n",
    "test.measure()"
   ]
  },
  {
   "cell_type": "code",
   "execution_count": 11,
   "id": "29d792d7-dac2-45ad-888e-3cb29921ce92",
   "metadata": {},
   "outputs": [
    {
     "data": {
      "text/plain": [
       "(<Figure size 640x480 with 1 Axes>, <Axes: >)"
      ]
     },
     "execution_count": 11,
     "metadata": {},
     "output_type": "execute_result"
    },
    {
     "data": {
      "image/png": "[encoded data removed]",
      "text/plain": [
       "<Figure size 640x480 with 1 Axes>"
      ]
     },
     "metadata": {},
     "output_type": "display_data"
    }
   ],
   "source": [
    "test.fitting_tool.plot_fit()"
   ]
  },
  {
   "cell_type": "code",
   "execution_count": null,
   "id": "79b0871e-66ba-4508-8ba4-5e21ea1d237c",
   "metadata": {},
   "outputs": [],
   "source": []
  }
 ],
 "metadata": {
  "kernelspec": {
   "display_name": "Python 3 (ipykernel)",
   "language": "python",
   "name": "python3"
  },
  "language_info": {
   "codemirror_mode": {
    "name": "ipython",
    "version": 3
   },
   "file_extension": ".py",
   "mimetype": "text/x-python",
   "name": "python",
   "nbconvert_exporter": "python",
   "pygments_lexer": "ipython3",
   "version": "3.9.19"
  }
 },
 "nbformat": 4,
 "nbformat_minor": 5
}
