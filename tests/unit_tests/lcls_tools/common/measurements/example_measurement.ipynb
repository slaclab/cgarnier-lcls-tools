{
 "cells": [
  {
   "cell_type": "markdown",
   "id": "0a432940",
   "metadata": {},
   "source": [
    "-This notebook is an example of how to properly set up the ScreenBeamProfileMeasurement Class:\n",
    "    -Since ScreenBeamProfileMeasurement takes a screen object as a pydantic field to use for live images and this example is mean't to be \n",
    "done offline we subclass Screen and overwrite the the image property to a static 2d array. \n",
    "        -The array passed in this example is automatically"
   ]
  },
  {
   "cell_type": "code",
   "execution_count": null,
   "id": "80146949",
   "metadata": {},
   "outputs": [],
   "source": [
    "from lcls_tools.common.measurements.screen_beam_profile_measurement import ScreenBeamProfileMeasurement\n",
    "from lcls_tools.common.data_analysis.projection_fit.projection_fit import ProjectionFit\n",
    "from lcls_tools.common.data_analysis.projection_fit.gaussian_model import GaussianModel\n",
    "from lcls_tools.common.image_processing.image_processing import ImageProcessor\n",
    "from lcls_tools.common.image_processing.roi import ROI, RectangularROI, CircularROI\n",
    "from lcls_tools.common.devices.device import Device, PVSet, ControlInformation, Metadata\n",
    "from lcls_tools.common.devices.screen import ScreenControlInformation, ScreenPVSet, Screen\n",
    "from matplotlib import pyplot as plt\n",
    "from epics import PV, caget\n",
    "import numpy as np\n",
    "import h5py\n",
    "import random"
   ]
  },
  {
   "cell_type": "code",
   "execution_count": null,
   "id": "7051ec06-01f3-4dc3-b86a-c732fd1c3df5",
   "metadata": {},
   "outputs": [],
   "source": [
    "class ScreenTest(Screen):\n",
    "    @property\n",
    "    def image(self) -> np.ndarray:\n",
    "        return self._image\n",
    "    \n",
    "    @image.setter\n",
    "    def image(self,image):\n",
    "        self._image = image"
   ]
  },
  {
   "cell_type": "code",
   "execution_count": null,
   "id": "f736c366-6c88-4187-b9a4-a4dcab9c7730",
   "metadata": {},
   "outputs": [],
   "source": [
    "def create_test_image(size:tuple,center:list,radius:int):\n",
    "    # make img that is a circle in the center of the image with known standard dev and mean. no imports, no calls to external or\n",
    "    # internal files. \n",
    "    image = np.zeros(size)\n",
    "    for y in range(image.shape[0]):\n",
    "        for x in range(image.shape[1]):\n",
    "            distance =  np.sqrt((x - center[0])**2 + (y - center[1])**2)\n",
    "            if distance < radius:\n",
    "                image[y,x]= 1\n",
    "    return image"
   ]
  },
  {
   "cell_type": "code",
   "execution_count": null,
   "id": "9fa172e9",
   "metadata": {},
   "outputs": [],
   "source": [
    "# creating projection fit class\n",
    "gauss_model = GaussianModel()\n",
    "projection_fit = ProjectionFit(model = gauss_model,visualize_fit = True, visualize_priors = True,use_priors =True)"
   ]
  },
  {
   "cell_type": "code",
   "execution_count": null,
   "id": "4289cca5",
   "metadata": {},
   "outputs": [],
   "source": [
    "# creating image processing class\n",
    "# would be nice to have default way of finding the center of image\n",
    "# also maybe have rectangularROI have default roi_type 'Rectangular', and change roi_type to roi\n",
    "roi = RectangularROI(center =[400,400],xwidth=300,ywidth=300)\n",
    "image_processor = ImageProcessor(roi = roi,visualize = True)"
   ]
  },
  {
   "cell_type": "code",
   "execution_count": null,
   "id": "8260d6b6",
   "metadata": {},
   "outputs": [],
   "source": [
    "PV_strings = {\n",
    "    'image': 'ArrayData',\n",
    "    'n_bits': 'N_OF_BITS',\n",
    "    'n_col': 'ArraySize1_RBV',\n",
    "    'n_row': 'ArraySize0_RBV',\n",
    "    'resolution': 'RESOLUTION'\n",
    "}\n",
    "metadata = {\n",
    "        'area': 'TEST',\n",
    "        'beam_path': ['SC_TEST'],\n",
    "        'sum_l_meters': 99.99\n",
    "        }\n",
    "control_name =  \"OTRS:TEST:650:\""
   ]
  },
  {
   "cell_type": "code",
   "execution_count": null,
   "id": "eb543534",
   "metadata": {},
   "outputs": [],
   "source": [
    "# creating Screen Device\n",
    "# inconsistent use of Controls_information and control_information between classes recommend change.\n",
    "screen_pvs = ScreenPVSet(**PV_strings)\n",
    "meta_data = Metadata(**metadata)\n",
    "controls_information = ScreenControlInformation(control_name = control_name, PVs = screen_pvs )\n",
    "screen_test = ScreenTest(controls_information = controls_information, metadata = meta_data)"
   ]
  },
  {
   "cell_type": "code",
   "execution_count": null,
   "id": "d5d1add9",
   "metadata": {},
   "outputs": [],
   "source": [
    "test = ScreenBeamProfileMeasurement(name = control_name,device = screen_test, image_processor = image_processor, fitting_tool = projection_fit)"
   ]
  },
  {
   "cell_type": "code",
   "execution_count": null,
   "id": "71c61cf3-bf4a-4d56-beb7-07e55b61cce0",
   "metadata": {},
   "outputs": [],
   "source": [
    "test.device.image = create_test_image((800,800),[400,400],50)"
   ]
  },
  {
   "cell_type": "code",
   "execution_count": null,
   "id": "725f6fb5",
   "metadata": {},
   "outputs": [],
   "source": [
    "test.measure()"
   ]
  },
  {
   "cell_type": "code",
   "execution_count": null,
   "id": "20948923-60a9-426f-a4ac-5738a164a13e",
   "metadata": {},
   "outputs": [],
   "source": []
  },
  {
   "cell_type": "code",
   "execution_count": null,
   "id": "b105abd5-ffb3-4795-8e44-92ce6794571d",
   "metadata": {},
   "outputs": [],
   "source": [
    "dict(test)"
   ]
  },
  {
   "cell_type": "code",
   "execution_count": null,
   "id": "9ee3ab60-1598-45c2-a789-d895a2f4da1e",
   "metadata": {},
   "outputs": [],
   "source": [
    "test.fitting_tool.plot_fit()"
   ]
  },
  {
   "cell_type": "code",
   "execution_count": null,
   "id": "e3fed626-621a-4c0c-b7aa-6c35394bbbd2",
   "metadata": {},
   "outputs": [],
   "source": []
  }
 ],
 "metadata": {
  "kernelspec": {
   "display_name": "Python 3 (ipykernel)",
   "language": "python",
   "name": "python3"
  },
  "language_info": {
   "codemirror_mode": {
    "name": "ipython",
    "version": 3
   },
   "file_extension": ".py",
   "mimetype": "text/x-python",
   "name": "python",
   "nbconvert_exporter": "python",
   "pygments_lexer": "ipython3",
   "version": "3.9.19"
  }
 },
 "nbformat": 4,
 "nbformat_minor": 5
}
